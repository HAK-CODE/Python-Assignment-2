{
 "cells": [
  {
   "cell_type": "code",
   "execution_count": 95,
   "metadata": {
    "collapsed": true
   },
   "outputs": [],
   "source": [
    "import pandas as pd\n",
    "import numpy as np\n",
    "import datetime as dt\n",
    "import calendar as cl\n",
    "pd.set_option('display.max_rows', 500)"
   ]
  },
  {
   "cell_type": "code",
   "execution_count": 96,
   "metadata": {
    "collapsed": false
   },
   "outputs": [],
   "source": [
    "#Reading CSV from current directory\n",
    "df = pd.read_csv('hospitaldata.csv')"
   ]
  },
  {
   "cell_type": "code",
   "execution_count": 97,
   "metadata": {
    "collapsed": false
   },
   "outputs": [
    {
     "name": "stdout",
     "output_type": "stream",
     "text": [
      "['Date' 'id' 'Time' 'Age' 'Sex' 'Consulting..Doctor' 'Specialty'\n",
      " 'Procedure' 'Total..Charges' 'Amount..Received.' 'Amount..Balance'\n",
      " 'Amount.Received.By' 'Amount.in.Hospital' 'Receptionist..Name' 'Next.Apt']\n"
     ]
    }
   ],
   "source": [
    "#Cleaning column names \n",
    "print(df.columns.values)"
   ]
  },
  {
   "cell_type": "code",
   "execution_count": 98,
   "metadata": {
    "collapsed": false
   },
   "outputs": [],
   "source": [
    "df.columns = df.columns.str.replace('.','')"
   ]
  },
  {
   "cell_type": "code",
   "execution_count": 99,
   "metadata": {
    "collapsed": false
   },
   "outputs": [],
   "source": [
    "#Convert object to datetime\n",
    "df.Date=pd.to_datetime(df.Date)"
   ]
  },
  {
   "cell_type": "code",
   "execution_count": 100,
   "metadata": {
    "collapsed": false
   },
   "outputs": [
    {
     "name": "stderr",
     "output_type": "stream",
     "text": [
      "C:\\ProgramData\\Anaconda3\\lib\\site-packages\\ipykernel\\__main__.py:2: SettingWithCopyWarning: \n",
      "A value is trying to be set on a copy of a slice from a DataFrame\n",
      "\n",
      "See the caveats in the documentation: http://pandas.pydata.org/pandas-docs/stable/indexing.html#indexing-view-versus-copy\n",
      "  from ipykernel import kernelapp as app\n"
     ]
    }
   ],
   "source": [
    "#Cleaning Time column\n",
    "df.Time[df.Time == '-'] = np.nan"
   ]
  },
  {
   "cell_type": "code",
   "execution_count": 101,
   "metadata": {
    "collapsed": false
   },
   "outputs": [],
   "source": [
    "#Cleaning column to upper case as it having one small 'f'\n",
    "df[df.Sex == '-'] = np.nan\n",
    "df.Sex = df.Sex.str.upper()"
   ]
  },
  {
   "cell_type": "code",
   "execution_count": 102,
   "metadata": {
    "collapsed": false,
    "scrolled": false
   },
   "outputs": [
    {
     "name": "stderr",
     "output_type": "stream",
     "text": [
      "C:\\ProgramData\\Anaconda3\\lib\\site-packages\\ipykernel\\__main__.py:2: SettingWithCopyWarning: \n",
      "A value is trying to be set on a copy of a slice from a DataFrame\n",
      "\n",
      "See the caveats in the documentation: http://pandas.pydata.org/pandas-docs/stable/indexing.html#indexing-view-versus-copy\n",
      "  from ipykernel import kernelapp as app\n"
     ]
    }
   ],
   "source": [
    "#Place nan wherever there is cancelled placed in total charges\n",
    "df.TotalCharges[df.TotalCharges == 'Cancelled'] = np.nan\n",
    "df.TotalCharges = df.TotalCharges.astype(float)"
   ]
  },
  {
   "cell_type": "code",
   "execution_count": 103,
   "metadata": {
    "collapsed": false
   },
   "outputs": [
    {
     "name": "stdout",
     "output_type": "stream",
     "text": [
      "Average Age is  32.5721649485\n"
     ]
    }
   ],
   "source": [
    "df.Age.replace(\"[^0-9]\",'',regex=True,inplace=True)\n",
    "df.Age.replace(\"\",np.nan,regex=True,inplace=True)\n",
    "x = np.array(df.Age).astype(float)\n",
    "print(\"Average Age is \",str(np.nanmean(x)))"
   ]
  },
  {
   "cell_type": "code",
   "execution_count": 11,
   "metadata": {
    "collapsed": false
   },
   "outputs": [
    {
     "name": "stderr",
     "output_type": "stream",
     "text": [
      "C:\\Users\\Hammad Ali Khan\\Anaconda3\\lib\\site-packages\\ipykernel\\__main__.py:2: SettingWithCopyWarning: \n",
      "A value is trying to be set on a copy of a slice from a DataFrame\n",
      "\n",
      "See the caveats in the documentation: http://pandas.pydata.org/pandas-docs/stable/indexing.html#indexing-view-versus-copy\n",
      "  from ipykernel import kernelapp as app\n"
     ]
    }
   ],
   "source": [
    "#Place nan wherever there is cancelled placed in Procedure\n",
    "df.Procedure[df.Procedure == 'Cancelled'] = np.nan"
   ]
  },
  {
   "cell_type": "code",
   "execution_count": 12,
   "metadata": {
    "collapsed": false
   },
   "outputs": [
    {
     "name": "stdout",
     "output_type": "stream",
     "text": [
      "Most visited day of visitor was Monday\n"
     ]
    }
   ],
   "source": [
    "#(df.Date.groupby([df.Date]).count())\n",
    "print(\"Most visited day of visitor was\",str(cl.day_name[(df.Date.value_counts().idxmax()).weekday()]))"
   ]
  },
  {
   "cell_type": "code",
   "execution_count": 13,
   "metadata": {
    "collapsed": false
   },
   "outputs": [
    {
     "name": "stdout",
     "output_type": "stream",
     "text": [
      "Number of childern entertained were 24\n"
     ]
    }
   ],
   "source": [
    "#4. How many children were entertained? (Make a Bracket of Age from 1-12)\n",
    "a = x[pd.notnull(x)]\n",
    "print(\"Number of childern entertained were\",str(len(a[(a >= 1) & (a <= 12)])))"
   ]
  },
  {
   "cell_type": "code",
   "execution_count": 14,
   "metadata": {
    "collapsed": false
   },
   "outputs": [
    {
     "data": {
      "text/plain": [
       "Sex        \n",
       "F    count              100\n",
       "     unique              29\n",
       "     top       Consultation\n",
       "     freq                46\n",
       "M    count               98\n",
       "     unique              28\n",
       "     top       Consultation\n",
       "     freq                34\n",
       "Name: Procedure, dtype: object"
      ]
     },
     "execution_count": 14,
     "metadata": {},
     "output_type": "execute_result"
    }
   ],
   "source": [
    "#5. Which gender type had what kind of procedure in abundance? i.e. Female visit mostly because of Gynae Problem \n",
    "bytreatement = df.groupby(df.Sex)\n",
    "bytreatement['Procedure'].describe()"
   ]
  },
  {
   "cell_type": "code",
   "execution_count": 15,
   "metadata": {
    "collapsed": false
   },
   "outputs": [
    {
     "name": "stdout",
     "output_type": "stream",
     "text": [
      "Highest paid doctor is Dr Alaf Khan\n"
     ]
    }
   ],
   "source": [
    "#6. Which Doctor is earning highest? \n",
    "bydoctor = df.groupby(df.ConsultingDoctor)\n",
    "print(\"Highest paid doctor is\",str(bydoctor['TotalCharges'].aggregate(np.sum).idxmax()))"
   ]
  },
  {
   "cell_type": "code",
   "execution_count": 16,
   "metadata": {
    "collapsed": false
   },
   "outputs": [
    {
     "name": "stdout",
     "output_type": "stream",
     "text": [
      "Highest earning procedure is Orthodontics worth 240000.0\n"
     ]
    }
   ],
   "source": [
    "#7. Which procedure type earns more money? \n",
    "byProcedure = df.groupby(df.Procedure)\n",
    "print(\"Highest earning procedure is\",str(byProcedure['TotalCharges'].sum().idxmax()),\"worth\",str(byProcedure['TotalCharges'].sum().max()))"
   ]
  },
  {
   "cell_type": "code",
   "execution_count": 35,
   "metadata": {
    "collapsed": false
   },
   "outputs": [
    {
     "name": "stdout",
     "output_type": "stream",
     "text": [
      "13 have highest visits of 29\n"
     ]
    }
   ],
   "source": [
    "#8. Which time of the day has highest frequency of visits by hour?\n",
    "print(str(int(df.Time.dt.hour.value_counts().idxmax())),\"have highest visits of\",str(df.Time.dt.hour.value_counts().max()))"
   ]
  },
  {
   "cell_type": "code",
   "execution_count": 40,
   "metadata": {
    "collapsed": false
   },
   "outputs": [
    {
     "name": "stdout",
     "output_type": "stream",
     "text": [
      "0        Morning\n",
      "1        Morning\n",
      "2      Afternoon\n",
      "3      Afternoon\n",
      "4        Evening\n",
      "5        Evening\n",
      "6        Evening\n",
      "7        Evening\n",
      "8        Evening\n",
      "9        Evening\n",
      "10       Evening\n",
      "11       Evening\n",
      "12     Afternoon\n",
      "13       Evening\n",
      "14       Evening\n",
      "15         Night\n",
      "16     Afternoon\n",
      "17         Night\n",
      "18         Night\n",
      "19     Afternoon\n",
      "20       Evening\n",
      "21       Evening\n",
      "22     Afternoon\n",
      "23     Afternoon\n",
      "24     Afternoon\n",
      "25           NaN\n",
      "26         Night\n",
      "27           NaN\n",
      "28     Afternoon\n",
      "29     Afternoon\n",
      "30       Evening\n",
      "31       Evening\n",
      "32       Evening\n",
      "33       Evening\n",
      "34       Evening\n",
      "35       Evening\n",
      "36           NaN\n",
      "37           NaN\n",
      "38       Evening\n",
      "39       Evening\n",
      "40       Evening\n",
      "41       Morning\n",
      "42       Evening\n",
      "43       Evening\n",
      "44       Morning\n",
      "45       Evening\n",
      "46         Night\n",
      "47       Evening\n",
      "48       Evening\n",
      "49         Night\n",
      "50           NaN\n",
      "51     Afternoon\n",
      "52       Evening\n",
      "53       Evening\n",
      "54       Morning\n",
      "55       Morning\n",
      "56     Afternoon\n",
      "57       Evening\n",
      "58       Evening\n",
      "59         Night\n",
      "60     Afternoon\n",
      "61       Evening\n",
      "62       Evening\n",
      "63           NaN\n",
      "64       Morning\n",
      "65           NaN\n",
      "66           NaN\n",
      "67           NaN\n",
      "68       Morning\n",
      "69     Afternoon\n",
      "70     Afternoon\n",
      "71     Afternoon\n",
      "72     Afternoon\n",
      "73     Afternoon\n",
      "74       Evening\n",
      "75     Afternoon\n",
      "76     Afternoon\n",
      "77       Evening\n",
      "78     Afternoon\n",
      "79           NaN\n",
      "80           NaN\n",
      "81     Afternoon\n",
      "82       Evening\n",
      "83       Evening\n",
      "84           NaN\n",
      "85           NaN\n",
      "86           NaN\n",
      "87           NaN\n",
      "88       Evening\n",
      "89         Night\n",
      "90           NaN\n",
      "91     Afternoon\n",
      "92     Afternoon\n",
      "93       Evening\n",
      "94       Evening\n",
      "95       Evening\n",
      "96       Evening\n",
      "97       Evening\n",
      "98       Evening\n",
      "99       Evening\n",
      "100      Evening\n",
      "101    Afternoon\n",
      "102    Afternoon\n",
      "103      Evening\n",
      "104    Afternoon\n",
      "105    Afternoon\n",
      "106    Afternoon\n",
      "107      Evening\n",
      "108        Night\n",
      "109      Evening\n",
      "110      Evening\n",
      "111        Night\n",
      "112        Night\n",
      "113    Afternoon\n",
      "114    Afternoon\n",
      "115      Evening\n",
      "116      Evening\n",
      "117    Afternoon\n",
      "118    Afternoon\n",
      "119      Evening\n",
      "120      Evening\n",
      "121        Night\n",
      "122      Morning\n",
      "123    Afternoon\n",
      "124    Afternoon\n",
      "125      Evening\n",
      "126      Evening\n",
      "127      Evening\n",
      "128      Morning\n",
      "129      Morning\n",
      "130      Evening\n",
      "131        Night\n",
      "132    Afternoon\n",
      "133      Evening\n",
      "134      Evening\n",
      "135      Evening\n",
      "136        Night\n",
      "137    Afternoon\n",
      "138      Morning\n",
      "139      Evening\n",
      "140        Night\n",
      "141          NaN\n",
      "142      Evening\n",
      "143      Evening\n",
      "144        Night\n",
      "145      Morning\n",
      "146      Evening\n",
      "147      Evening\n",
      "148      Evening\n",
      "149      Evening\n",
      "150      Evening\n",
      "151      Evening\n",
      "152      Evening\n",
      "153      Morning\n",
      "154      Evening\n",
      "155          NaN\n",
      "156    Afternoon\n",
      "157      Evening\n",
      "158        Night\n",
      "159        Night\n",
      "160    Afternoon\n",
      "161      Evening\n",
      "162        Night\n",
      "163        Night\n",
      "164          NaN\n",
      "165      Evening\n",
      "166      Evening\n",
      "167      Evening\n",
      "168    Afternoon\n",
      "169    Afternoon\n",
      "170      Evening\n",
      "171      Evening\n",
      "172        Night\n",
      "173      Evening\n",
      "174      Evening\n",
      "175      Morning\n",
      "176    Afternoon\n",
      "177          NaN\n",
      "178        Night\n",
      "179    Afternoon\n",
      "180          NaN\n",
      "181      Evening\n",
      "182        Night\n",
      "183      Evening\n",
      "184      Evening\n",
      "185          NaN\n",
      "186        Night\n",
      "187        Night\n",
      "188    Afternoon\n",
      "189      Evening\n",
      "190        Night\n",
      "191          NaN\n",
      "192      Morning\n",
      "193    Afternoon\n",
      "194    Afternoon\n",
      "195      Evening\n",
      "196      Evening\n",
      "197      Evening\n",
      "198          NaN\n",
      "199    Afternoon\n",
      "200      Evening\n",
      "201        Night\n",
      "202          NaN\n",
      "203      Evening\n",
      "204          NaN\n",
      "205        Night\n",
      "206      Evening\n",
      "207        Night\n",
      "208        Night\n",
      "209        Night\n",
      "210      Evening\n",
      "211      Evening\n",
      "212    Afternoon\n",
      "213        Night\n",
      "214    Afternoon\n",
      "215      Morning\n",
      "216          NaN\n",
      "217          NaN\n",
      "218      Evening\n",
      "219      Evening\n",
      "220      Morning\n",
      "221        Night\n",
      "Name: Time_brackets, dtype: object\n"
     ]
    }
   ],
   "source": [
    "#Q9 Create a bracket of time by Morning, Afternoon, Evening, Night (6am – 12pm – Morning, 12 pm- 4 pm, Afternoon, 4 pm- 7pm, Evening, 7pm – 6 am, Night).\n",
    "def bracket(hours):\n",
    "    if  hours >= 6 and hours < 12:\n",
    "        return \"Morning\"\n",
    "    elif hours >= 12 and hours < 14:\n",
    "        return \"Afternoon\"\n",
    "    elif  hours >= 14 and hours < 19:\n",
    "        return \"Evening\"\n",
    "    elif  hours >= 19 and hours <= 23 or hours >= 0 and hours < 6 :\n",
    "        return \"Night\"\n",
    "    else:\n",
    "        return np.NAN\n",
    "    \n",
    "df['Time_brackets']=df.Time.dt.hour.apply(bracket)\n",
    "print(df.Time_brackets)"
   ]
  },
  {
   "cell_type": "code",
   "execution_count": 21,
   "metadata": {
    "collapsed": false
   },
   "outputs": [
    {
     "name": "stdout",
     "output_type": "stream",
     "text": [
      "Number of repeated patients are  37\n"
     ]
    }
   ],
   "source": [
    "#10. How many patients are repeated visitors?\n",
    "array = pd.value_counts(df['id'].values, sort=True)\n",
    "print(\"Number of repeated patients are \",str(len(array[array > 1])))"
   ]
  },
  {
   "cell_type": "code",
   "execution_count": 53,
   "metadata": {
    "collapsed": false
   },
   "outputs": [
    {
     "name": "stdout",
     "output_type": "stream",
     "text": [
      "Id of repeated visitors are : \n"
     ]
    },
    {
     "data": {
      "text/plain": [
       "1.0      12\n",
       "122.0     5\n",
       "46.0      5\n",
       "94.0      4\n",
       "17.0      4\n",
       "140.0     4\n",
       "107.0     3\n",
       "132.0     3\n",
       "63.0      3\n",
       "145.0     3\n",
       "45.0      3\n",
       "114.0     3\n",
       "101.0     3\n",
       "109.0     3\n",
       "40.0      2\n",
       "12.0      2\n",
       "150.0     2\n",
       "64.0      2\n",
       "13.0      2\n",
       "88.0      2\n",
       "97.0      2\n",
       "80.0      2\n",
       "151.0     2\n",
       "59.0      2\n",
       "149.0     2\n",
       "116.0     2\n",
       "118.0     2\n",
       "112.0     2\n",
       "25.0      2\n",
       "20.0      2\n",
       "96.0      2\n",
       "153.0     2\n",
       "120.0     2\n",
       "133.0     2\n",
       "130.0     2\n",
       "100.0     2\n",
       "4.0       2\n",
       "dtype: int64"
      ]
     },
     "execution_count": 53,
     "metadata": {},
     "output_type": "execute_result"
    }
   ],
   "source": [
    "#11. Give us the id of repeated visitors.\n",
    "print(\"Id of repeated visitors are : \")\n",
    "array[array > 1]"
   ]
  },
  {
   "cell_type": "code",
   "execution_count": 20,
   "metadata": {
    "collapsed": false
   },
   "outputs": [
    {
     "data": {
      "text/plain": [
       "id\n",
       "1.0      12\n",
       "4.0       2\n",
       "12.0      2\n",
       "13.0      2\n",
       "17.0      4\n",
       "20.0      2\n",
       "25.0      2\n",
       "40.0      2\n",
       "45.0      3\n",
       "46.0      5\n",
       "59.0      2\n",
       "63.0      3\n",
       "64.0      2\n",
       "80.0      2\n",
       "88.0      2\n",
       "94.0      4\n",
       "96.0      2\n",
       "97.0      2\n",
       "100.0     2\n",
       "101.0     3\n",
       "107.0     3\n",
       "109.0     3\n",
       "112.0     2\n",
       "114.0     3\n",
       "116.0     2\n",
       "118.0     2\n",
       "120.0     2\n",
       "122.0     5\n",
       "130.0     2\n",
       "132.0     3\n",
       "133.0     2\n",
       "140.0     4\n",
       "145.0     3\n",
       "149.0     2\n",
       "150.0     2\n",
       "151.0     2\n",
       "153.0     2\n",
       "dtype: int64"
      ]
     },
     "execution_count": 20,
     "metadata": {},
     "output_type": "execute_result"
    }
   ],
   "source": [
    "#12. Which patients visited again for the same problem? \n",
    "bypatientProcedure = df.groupby(df.id)\n",
    "patients_repeat = bypatientProcedure['Procedure'].size()[bypatientProcedure['Procedure'].size() > 1]\n",
    "patients_repeat"
   ]
  },
  {
   "cell_type": "code",
   "execution_count": 109,
   "metadata": {
    "collapsed": false
   },
   "outputs": [
    {
     "data": {
      "text/plain": [
       "Sex\n",
       "F    30.0\n",
       "M    29.0\n",
       "Name: Age, dtype: float64"
      ]
     },
     "execution_count": 109,
     "metadata": {},
     "output_type": "execute_result"
    }
   ],
   "source": [
    "# 13. What is the median age for Females and Males? \n",
    "df.Age = pd.to_numeric(df.Age)\n",
    "df.groupby('Sex')['Age'].median()"
   ]
  },
  {
   "cell_type": "code",
   "execution_count": 124,
   "metadata": {
    "collapsed": false
   },
   "outputs": [
    {
     "name": "stdout",
     "output_type": "stream",
     "text": [
      "222500.0\n"
     ]
    }
   ],
   "source": [
    "#14. What is the total amount in balance? \n",
    "df.replace(to_replace=df['AmountBalance'].unique()[0], value=np.nan, inplace=True)\n",
    "df['AmountBalance']=df['AmountBalance'].map(lambda x: str(x).replace(',',''))\n",
    "df['AmountBalance'] = df['AmountBalance'].astype(float)\n",
    "print(df['AmountBalance'].sum())"
   ]
  },
  {
   "cell_type": "code",
   "execution_count": 128,
   "metadata": {
    "collapsed": false
   },
   "outputs": [
    {
     "name": "stdout",
     "output_type": "stream",
     "text": [
      "Money made by Consultation is 82450.0\n"
     ]
    }
   ],
   "source": [
    "#15. How much money was made by Procedure Type “Consultation”? \n",
    "print(\"Money made by Consultation is\",df.TotalCharges[df.Procedure == \"Consultation\"].sum())"
   ]
  },
  {
   "cell_type": "code",
   "execution_count": 139,
   "metadata": {
    "collapsed": false
   },
   "outputs": [
    {
     "name": "stdout",
     "output_type": "stream",
     "text": [
      "Its shows that it has positive relation.\n"
     ]
    },
    {
     "data": {
      "text/html": [
       "<div>\n",
       "<table border=\"1\" class=\"dataframe\">\n",
       "  <thead>\n",
       "    <tr style=\"text-align: right;\">\n",
       "      <th></th>\n",
       "      <th>TotalCharges</th>\n",
       "    </tr>\n",
       "  </thead>\n",
       "  <tbody>\n",
       "    <tr>\n",
       "      <th>Age</th>\n",
       "      <td>0.029521</td>\n",
       "    </tr>\n",
       "  </tbody>\n",
       "</table>\n",
       "</div>"
      ],
      "text/plain": [
       "     TotalCharges\n",
       "Age      0.029521"
      ]
     },
     "execution_count": 139,
     "metadata": {},
     "output_type": "execute_result"
    }
   ],
   "source": [
    "#16.  Is there a relation between Age and Total Charges paid? \n",
    "print(\"Its shows that it has positive relation.\")\n",
    "df.corr().loc[['Age'],['TotalCharges']]"
   ]
  },
  {
   "cell_type": "code",
   "execution_count": 145,
   "metadata": {
    "collapsed": false
   },
   "outputs": [
    {
     "name": "stdout",
     "output_type": "stream",
     "text": [
      "Age group of 30\n"
     ]
    }
   ],
   "source": [
    "#17. Which Age group had highest number of visits? \n",
    "print(\"Age group of\",str(int(df.Age.value_counts().idxmax())))"
   ]
  },
  {
   "cell_type": "code",
   "execution_count": 148,
   "metadata": {
    "collapsed": false
   },
   "outputs": [
    {
     "name": "stdout",
     "output_type": "stream",
     "text": [
      "Total cost is  16500.0\n"
     ]
    }
   ],
   "source": [
    "#18. What is the total cost earned by Procedure Type X Ray and Scalling together? \n",
    "print(\"Total cost is \",str(df[(df.Procedure== 'X Rays') | (df.Procedure == 'Scalling')]['TotalCharges'].sum()))"
   ]
  },
  {
   "cell_type": "code",
   "execution_count": 151,
   "metadata": {
    "collapsed": false
   },
   "outputs": [],
   "source": [
    "df.to_csv(\"CleanData.csv\")"
   ]
  }
 ],
 "metadata": {
  "kernelspec": {
   "display_name": "Python 3",
   "language": "python",
   "name": "python3"
  },
  "language_info": {
   "codemirror_mode": {
    "name": "ipython",
    "version": 3
   },
   "file_extension": ".py",
   "mimetype": "text/x-python",
   "name": "python",
   "nbconvert_exporter": "python",
   "pygments_lexer": "ipython3",
   "version": "3.6.0"
  }
 },
 "nbformat": 4,
 "nbformat_minor": 2
}
